{
 "cells": [
  {
   "cell_type": "markdown",
   "metadata": {},
   "source": [
    "# 让终端的输出有颜色"
   ]
  },
  {
   "cell_type": "markdown",
   "metadata": {},
   "source": [
    "## 快速开始"
   ]
  },
  {
   "cell_type": "code",
   "execution_count": 2,
   "metadata": {},
   "outputs": [
    {
     "data": {
      "text/html": [
       "<pre style=\"white-space:pre;overflow-x:auto;line-height:normal;font-family:Menlo,'DejaVu Sans Mono',consolas,'Courier New',monospace\"><span style=\"color: #800000; text-decoration-color: #800000; font-weight: bold\">系统发生严重错误!</span>\n",
       "</pre>\n"
      ],
      "text/plain": [
       "\u001b[1;31m系统发生严重错误!\u001b[0m\n"
      ]
     },
     "metadata": {},
     "output_type": "display_data"
    },
    {
     "data": {
      "text/html": [
       "<pre style=\"white-space:pre;overflow-x:auto;line-height:normal;font-family:Menlo,'DejaVu Sans Mono',consolas,'Courier New',monospace\"><span style=\"color: #008000; text-decoration-color: #008000\">数据保存成功!</span>\n",
       "</pre>\n"
      ],
      "text/plain": [
       "\u001b[32m数据保存成功!\u001b[0m\n"
      ]
     },
     "metadata": {},
     "output_type": "display_data"
    },
    {
     "data": {
      "text/html": [
       "<pre style=\"white-space:pre;overflow-x:auto;line-height:normal;font-family:Menlo,'DejaVu Sans Mono',consolas,'Courier New',monospace\"><span style=\"color: #000080; text-decoration-color: #000080\">建议使用最新版本</span>\n",
       "</pre>\n"
      ],
      "text/plain": [
       "\u001b[34m建议使用最新版本\u001b[0m\n"
      ]
     },
     "metadata": {},
     "output_type": "display_data"
    },
    {
     "data": {
      "text/html": [
       "<pre style=\"white-space:pre;overflow-x:auto;line-height:normal;font-family:Menlo,'DejaVu Sans Mono',consolas,'Courier New',monospace\"><span style=\"color: #808000; text-decoration-color: #808000\">内存占用超过阈值</span>\n",
       "</pre>\n"
      ],
      "text/plain": [
       "\u001b[33m内存占用超过阈值\u001b[0m\n"
      ]
     },
     "metadata": {},
     "output_type": "display_data"
    },
    {
     "data": {
      "text/html": [
       "<pre style=\"white-space:pre;overflow-x:auto;line-height:normal;font-family:Menlo,'DejaVu Sans Mono',consolas,'Courier New',monospace\"><span style=\"color: #008080; text-decoration-color: #008080; font-weight: bold\">这是亮青色文本</span>\n",
       "</pre>\n"
      ],
      "text/plain": [
       "\u001b[1;36m这是亮青色文本\u001b[0m\n"
      ]
     },
     "metadata": {},
     "output_type": "display_data"
    },
    {
     "data": {
      "text/html": [
       "<pre style=\"white-space:pre;overflow-x:auto;line-height:normal;font-family:Menlo,'DejaVu Sans Mono',consolas,'Courier New',monospace\"><span style=\"color: #7fbf7f; text-decoration-color: #7fbf7f\">这是暗绿色文本</span>\n",
       "</pre>\n"
      ],
      "text/plain": [
       "\u001b[2;32m这是暗绿色文本\u001b[0m\n"
      ]
     },
     "metadata": {},
     "output_type": "display_data"
    }
   ],
   "source": [
    "import colorful_prints as cp\n",
    "\n",
    "# 语义化打印\n",
    "cp.danger(\"系统发生严重错误!\")\n",
    "cp.success(\"数据保存成功!\")\n",
    "cp.info(\"建议使用最新版本\")\n",
    "cp.warning(\"内存占用超过阈值\")\n",
    "\n",
    "# 基础颜色打印\n",
    "cp.bright_cyan_print(\"这是亮青色文本\")\n",
    "cp.dim_green_print(\"这是暗绿色文本\")"
   ]
  },
  {
   "cell_type": "markdown",
   "metadata": {},
   "source": [
    "## 亮色系列"
   ]
  },
  {
   "cell_type": "code",
   "execution_count": 3,
   "metadata": {},
   "outputs": [
    {
     "data": {
      "text/html": [
       "<pre style=\"white-space:pre;overflow-x:auto;line-height:normal;font-family:Menlo,'DejaVu Sans Mono',consolas,'Courier New',monospace\"><span style=\"color: #800000; text-decoration-color: #800000; font-weight: bold\">高亮红</span>\n",
       "</pre>\n"
      ],
      "text/plain": [
       "\u001b[1;31m高亮红\u001b[0m\n"
      ]
     },
     "metadata": {},
     "output_type": "display_data"
    },
    {
     "data": {
      "text/html": [
       "<pre style=\"white-space:pre;overflow-x:auto;line-height:normal;font-family:Menlo,'DejaVu Sans Mono',consolas,'Courier New',monospace\"><span style=\"color: #008000; text-decoration-color: #008000; font-weight: bold\">高亮绿</span>\n",
       "</pre>\n"
      ],
      "text/plain": [
       "\u001b[1;32m高亮绿\u001b[0m\n"
      ]
     },
     "metadata": {},
     "output_type": "display_data"
    },
    {
     "data": {
      "text/html": [
       "<pre style=\"white-space:pre;overflow-x:auto;line-height:normal;font-family:Menlo,'DejaVu Sans Mono',consolas,'Courier New',monospace\"><span style=\"color: #000080; text-decoration-color: #000080; font-weight: bold\">高亮蓝</span>\n",
       "</pre>\n"
      ],
      "text/plain": [
       "\u001b[1;34m高亮蓝\u001b[0m\n"
      ]
     },
     "metadata": {},
     "output_type": "display_data"
    }
   ],
   "source": [
    "cp.bright_red_print(\"高亮红\")  # 🔥 明亮红色\n",
    "cp.bright_green_print(\"高亮绿\")  # 🌿 鲜明绿色\n",
    "cp.bright_blue_print(\"高亮蓝\")  # 💧 明亮蓝色"
   ]
  },
  {
   "cell_type": "markdown",
   "metadata": {},
   "source": [
    "## 暗色系列"
   ]
  },
  {
   "cell_type": "code",
   "execution_count": 4,
   "metadata": {},
   "outputs": [
    {
     "data": {
      "text/html": [
       "<pre style=\"white-space:pre;overflow-x:auto;line-height:normal;font-family:Menlo,'DejaVu Sans Mono',consolas,'Courier New',monospace\"><span style=\"color: #bf7f7f; text-decoration-color: #bf7f7f\">暗红</span>\n",
       "</pre>\n"
      ],
      "text/plain": [
       "\u001b[2;31m暗红\u001b[0m\n"
      ]
     },
     "metadata": {},
     "output_type": "display_data"
    },
    {
     "data": {
      "text/html": [
       "<pre style=\"white-space:pre;overflow-x:auto;line-height:normal;font-family:Menlo,'DejaVu Sans Mono',consolas,'Courier New',monospace\"><span style=\"color: #7fbf7f; text-decoration-color: #7fbf7f\">暗绿</span>\n",
       "</pre>\n"
      ],
      "text/plain": [
       "\u001b[2;32m暗绿\u001b[0m\n"
      ]
     },
     "metadata": {},
     "output_type": "display_data"
    },
    {
     "data": {
      "text/html": [
       "<pre style=\"white-space:pre;overflow-x:auto;line-height:normal;font-family:Menlo,'DejaVu Sans Mono',consolas,'Courier New',monospace\"><span style=\"color: #7f7fbf; text-decoration-color: #7f7fbf\">暗蓝</span>\n",
       "</pre>\n"
      ],
      "text/plain": [
       "\u001b[2;34m暗蓝\u001b[0m\n"
      ]
     },
     "metadata": {},
     "output_type": "display_data"
    }
   ],
   "source": [
    "cp.dim_red_print(\"暗红\")  # 🩸 深红色\n",
    "cp.dim_green_print(\"暗绿\")  # 🫒 橄榄绿\n",
    "cp.dim_blue_print(\"暗蓝\")  # 🌌 深夜蓝"
   ]
  },
  {
   "cell_type": "markdown",
   "metadata": {},
   "source": [
    "## 高级用法\n",
    "\n",
    "### 类型安全验证\n",
    "\n",
    "自动将参数转换为字符串，支持任何实现 `__str__` 方法的对象："
   ]
  },
  {
   "cell_type": "code",
   "execution_count": 5,
   "metadata": {},
   "outputs": [
    {
     "data": {
      "text/html": [
       "<pre style=\"white-space:pre;overflow-x:auto;line-height:normal;font-family:Menlo,'DejaVu Sans Mono',consolas,'Courier New',monospace\"><span style=\"color: #008000; text-decoration-color: #008000\">用户: Alice</span>\n",
       "</pre>\n"
      ],
      "text/plain": [
       "\u001b[32m用户: Alice\u001b[0m\n"
      ]
     },
     "metadata": {},
     "output_type": "display_data"
    }
   ],
   "source": [
    "class User:\n",
    "    def __init__(self, name):\n",
    "        self.name = name\n",
    "\n",
    "    def __str__(self):\n",
    "        return f\"用户: {self.name}\"\n",
    "\n",
    "\n",
    "user = User(\"Alice\")\n",
    "cp.success(user)  # ✅ 自动调用 str(user)"
   ]
  },
  {
   "cell_type": "markdown",
   "metadata": {},
   "source": [
    "### 原生参数支持\n",
    "\n",
    "完美兼容标准 print 函数参数："
   ]
  },
  {
   "cell_type": "code",
   "execution_count": 6,
   "metadata": {},
   "outputs": [
    {
     "data": {
      "text/html": [
       "<pre style=\"white-space:pre;overflow-x:auto;line-height:normal;font-family:Menlo,'DejaVu Sans Mono',consolas,'Courier New',monospace\"><span style=\"color: #808000; text-decoration-color: #808000; font-weight: bold\">姓名: 张三</span>!\n",
       "</pre>\n"
      ],
      "text/plain": [
       "\u001b[1;33m姓名: 张三\u001b[0m!\n"
      ]
     },
     "metadata": {},
     "output_type": "display_data"
    }
   ],
   "source": [
    "cp.bright_yellow_print(\n",
    "    \"姓名\",\n",
    "    \"张三\",\n",
    "    sep=\": \",  # 使用冒号分隔\n",
    "    end=\"!\\n\",  # 自定义结束符\n",
    ")"
   ]
  },
  {
   "cell_type": "markdown",
   "metadata": {},
   "source": [
    "## 项目结构\n",
    "\n",
    "```\n",
    "colorful_prints/\n",
    "├── setup.py                  # 打包配置\n",
    "└── colorful_prints/\n",
    "    ├── __init__.py           # 模块初始化\n",
    "    ├── colorful_prints.py    # 核心打印方法实现\n",
    "    ├── utils.py              # 装饰器和校验逻辑\n",
    "    └── test_print.py         # 示例测试类\n",
    "```\n",
    "\n",
    "## 贡献指南\n",
    "\n",
    "欢迎通过 Issue 反馈问题或提交 Pull Request：\n",
    "\n",
    "1. Fork 本仓库\n",
    "2. 创建特性分支 (`git checkout -b feature/awesome-feature`)\n",
    "3. 提交代码 (`git commit -am 'Add awesome feature'`)\n",
    "4. 推送到分支 (`git push origin feature/awesome-feature`)\n",
    "5. 新建 Pull Request\n",
    "\n",
    "## 许可协议\n",
    "\n",
    "[MIT License](LICENSE)\n",
    "\n",
    "---\n",
    "\n",
    "⭐ **提示：**\n",
    "\n",
    "- 使用前请确保终端支持 ANSI 颜色转义\n",
    "- 内置类型校验装饰器会自动转换非字符串参数\n",
    "- 通过 `file` 参数可将彩色文本保存到文件\n",
    "- 亮色使用 `bold` 样式实现，暗色使用 `dim` 样式实现"
   ]
  },
  {
   "cell_type": "code",
   "execution_count": 7,
   "metadata": {},
   "outputs": [
    {
     "data": {
      "text/html": [
       "<pre style=\"white-space:pre;overflow-x:auto;line-height:normal;font-family:Menlo,'DejaVu Sans Mono',consolas,'Courier New',monospace\"><span style=\"color: #800000; text-decoration-color: #800000; font-weight: bold\">TestClass instance as string</span>\n",
       "\n",
       "</pre>\n"
      ],
      "text/plain": [
       "\u001b[1;31mTestClass instance as string\u001b[0m\n",
       "\n"
      ]
     },
     "metadata": {},
     "output_type": "display_data"
    },
    {
     "data": {
      "text/html": [
       "<pre style=\"white-space:pre;overflow-x:auto;line-height:normal;font-family:Menlo,'DejaVu Sans Mono',consolas,'Courier New',monospace\"><span style=\"color: #800000; text-decoration-color: #800000; font-weight: bold\">danger</span>\n",
       "</pre>\n"
      ],
      "text/plain": [
       "\u001b[1;31mdanger\u001b[0m\n"
      ]
     },
     "metadata": {},
     "output_type": "display_data"
    },
    {
     "data": {
      "text/html": [
       "<pre style=\"white-space:pre;overflow-x:auto;line-height:normal;font-family:Menlo,'DejaVu Sans Mono',consolas,'Courier New',monospace\"><span style=\"color: #808000; text-decoration-color: #808000\">warning</span>\n",
       "</pre>\n"
      ],
      "text/plain": [
       "\u001b[33mwarning\u001b[0m\n"
      ]
     },
     "metadata": {},
     "output_type": "display_data"
    },
    {
     "data": {
      "text/html": [
       "<pre style=\"white-space:pre;overflow-x:auto;line-height:normal;font-family:Menlo,'DejaVu Sans Mono',consolas,'Courier New',monospace\"><span style=\"color: #008000; text-decoration-color: #008000\">success</span>\n",
       "</pre>\n"
      ],
      "text/plain": [
       "\u001b[32msuccess\u001b[0m\n"
      ]
     },
     "metadata": {},
     "output_type": "display_data"
    },
    {
     "data": {
      "text/html": [
       "<pre style=\"white-space:pre;overflow-x:auto;line-height:normal;font-family:Menlo,'DejaVu Sans Mono',consolas,'Courier New',monospace\"><span style=\"color: #000080; text-decoration-color: #000080\">info</span>\n",
       "</pre>\n"
      ],
      "text/plain": [
       "\u001b[34minfo\u001b[0m\n"
      ]
     },
     "metadata": {},
     "output_type": "display_data"
    },
    {
     "data": {
      "text/html": [
       "<pre style=\"white-space:pre;overflow-x:auto;line-height:normal;font-family:Menlo,'DejaVu Sans Mono',consolas,'Courier New',monospace\"><span style=\"color: #bf7f7f; text-decoration-color: #bf7f7f\">dim_red_print</span>\n",
       "</pre>\n"
      ],
      "text/plain": [
       "\u001b[2;31mdim_red_print\u001b[0m\n"
      ]
     },
     "metadata": {},
     "output_type": "display_data"
    },
    {
     "data": {
      "text/html": [
       "<pre style=\"white-space:pre;overflow-x:auto;line-height:normal;font-family:Menlo,'DejaVu Sans Mono',consolas,'Courier New',monospace\"><span style=\"color: #800000; text-decoration-color: #800000\">red_print</span>\n",
       "</pre>\n"
      ],
      "text/plain": [
       "\u001b[31mred_print\u001b[0m\n"
      ]
     },
     "metadata": {},
     "output_type": "display_data"
    },
    {
     "data": {
      "text/html": [
       "<pre style=\"white-space:pre;overflow-x:auto;line-height:normal;font-family:Menlo,'DejaVu Sans Mono',consolas,'Courier New',monospace\"><span style=\"color: #800000; text-decoration-color: #800000; font-weight: bold\">bright_red_print</span>\n",
       "</pre>\n"
      ],
      "text/plain": [
       "\u001b[1;31mbright_red_print\u001b[0m\n"
      ]
     },
     "metadata": {},
     "output_type": "display_data"
    },
    {
     "data": {
      "text/html": [
       "<pre style=\"white-space:pre;overflow-x:auto;line-height:normal;font-family:Menlo,'DejaVu Sans Mono',consolas,'Courier New',monospace\"><span style=\"color: #bfbf7f; text-decoration-color: #bfbf7f\">dim_yellow_print</span>\n",
       "</pre>\n"
      ],
      "text/plain": [
       "\u001b[2;33mdim_yellow_print\u001b[0m\n"
      ]
     },
     "metadata": {},
     "output_type": "display_data"
    },
    {
     "data": {
      "text/html": [
       "<pre style=\"white-space:pre;overflow-x:auto;line-height:normal;font-family:Menlo,'DejaVu Sans Mono',consolas,'Courier New',monospace\"><span style=\"color: #808000; text-decoration-color: #808000\">yellow_print</span>\n",
       "</pre>\n"
      ],
      "text/plain": [
       "\u001b[33myellow_print\u001b[0m\n"
      ]
     },
     "metadata": {},
     "output_type": "display_data"
    },
    {
     "data": {
      "text/html": [
       "<pre style=\"white-space:pre;overflow-x:auto;line-height:normal;font-family:Menlo,'DejaVu Sans Mono',consolas,'Courier New',monospace\"><span style=\"color: #808000; text-decoration-color: #808000; font-weight: bold\">bright_yellow_print</span>\n",
       "</pre>\n"
      ],
      "text/plain": [
       "\u001b[1;33mbright_yellow_print\u001b[0m\n"
      ]
     },
     "metadata": {},
     "output_type": "display_data"
    },
    {
     "data": {
      "text/html": [
       "<pre style=\"white-space:pre;overflow-x:auto;line-height:normal;font-family:Menlo,'DejaVu Sans Mono',consolas,'Courier New',monospace\"><span style=\"color: #7fbf7f; text-decoration-color: #7fbf7f\">dim_green_print</span>\n",
       "</pre>\n"
      ],
      "text/plain": [
       "\u001b[2;32mdim_green_print\u001b[0m\n"
      ]
     },
     "metadata": {},
     "output_type": "display_data"
    },
    {
     "data": {
      "text/html": [
       "<pre style=\"white-space:pre;overflow-x:auto;line-height:normal;font-family:Menlo,'DejaVu Sans Mono',consolas,'Courier New',monospace\"><span style=\"color: #008000; text-decoration-color: #008000\">green_print</span>\n",
       "</pre>\n"
      ],
      "text/plain": [
       "\u001b[32mgreen_print\u001b[0m\n"
      ]
     },
     "metadata": {},
     "output_type": "display_data"
    },
    {
     "data": {
      "text/html": [
       "<pre style=\"white-space:pre;overflow-x:auto;line-height:normal;font-family:Menlo,'DejaVu Sans Mono',consolas,'Courier New',monospace\"><span style=\"color: #008000; text-decoration-color: #008000; font-weight: bold\">bright_green_print</span>\n",
       "</pre>\n"
      ],
      "text/plain": [
       "\u001b[1;32mbright_green_print\u001b[0m\n"
      ]
     },
     "metadata": {},
     "output_type": "display_data"
    },
    {
     "data": {
      "text/html": [
       "<pre style=\"white-space:pre;overflow-x:auto;line-height:normal;font-family:Menlo,'DejaVu Sans Mono',consolas,'Courier New',monospace\"><span style=\"color: #7f7fbf; text-decoration-color: #7f7fbf\">dim_blue_print</span>\n",
       "</pre>\n"
      ],
      "text/plain": [
       "\u001b[2;34mdim_blue_print\u001b[0m\n"
      ]
     },
     "metadata": {},
     "output_type": "display_data"
    },
    {
     "data": {
      "text/html": [
       "<pre style=\"white-space:pre;overflow-x:auto;line-height:normal;font-family:Menlo,'DejaVu Sans Mono',consolas,'Courier New',monospace\"><span style=\"color: #000080; text-decoration-color: #000080\">blue_print</span>\n",
       "</pre>\n"
      ],
      "text/plain": [
       "\u001b[34mblue_print\u001b[0m\n"
      ]
     },
     "metadata": {},
     "output_type": "display_data"
    },
    {
     "data": {
      "text/html": [
       "<pre style=\"white-space:pre;overflow-x:auto;line-height:normal;font-family:Menlo,'DejaVu Sans Mono',consolas,'Courier New',monospace\"><span style=\"color: #000080; text-decoration-color: #000080; font-weight: bold\">bright_blue_print</span>\n",
       "</pre>\n"
      ],
      "text/plain": [
       "\u001b[1;34mbright_blue_print\u001b[0m\n"
      ]
     },
     "metadata": {},
     "output_type": "display_data"
    },
    {
     "data": {
      "text/html": [
       "<pre style=\"white-space:pre;overflow-x:auto;line-height:normal;font-family:Menlo,'DejaVu Sans Mono',consolas,'Courier New',monospace\"><span style=\"color: #bf7fbf; text-decoration-color: #bf7fbf\">dim_magenta_print</span>\n",
       "</pre>\n"
      ],
      "text/plain": [
       "\u001b[2;35mdim_magenta_print\u001b[0m\n"
      ]
     },
     "metadata": {},
     "output_type": "display_data"
    },
    {
     "data": {
      "text/html": [
       "<pre style=\"white-space:pre;overflow-x:auto;line-height:normal;font-family:Menlo,'DejaVu Sans Mono',consolas,'Courier New',monospace\"><span style=\"color: #800080; text-decoration-color: #800080\">magenta_print</span>\n",
       "</pre>\n"
      ],
      "text/plain": [
       "\u001b[35mmagenta_print\u001b[0m\n"
      ]
     },
     "metadata": {},
     "output_type": "display_data"
    },
    {
     "data": {
      "text/html": [
       "<pre style=\"white-space:pre;overflow-x:auto;line-height:normal;font-family:Menlo,'DejaVu Sans Mono',consolas,'Courier New',monospace\"><span style=\"color: #800080; text-decoration-color: #800080; font-weight: bold\">bright_magenta_print</span>\n",
       "</pre>\n"
      ],
      "text/plain": [
       "\u001b[1;35mbright_magenta_print\u001b[0m\n"
      ]
     },
     "metadata": {},
     "output_type": "display_data"
    },
    {
     "data": {
      "text/html": [
       "<pre style=\"white-space:pre;overflow-x:auto;line-height:normal;font-family:Menlo,'DejaVu Sans Mono',consolas,'Courier New',monospace\"><span style=\"color: #7fbfbf; text-decoration-color: #7fbfbf\">dim_cyan_print</span>\n",
       "</pre>\n"
      ],
      "text/plain": [
       "\u001b[2;36mdim_cyan_print\u001b[0m\n"
      ]
     },
     "metadata": {},
     "output_type": "display_data"
    },
    {
     "data": {
      "text/html": [
       "<pre style=\"white-space:pre;overflow-x:auto;line-height:normal;font-family:Menlo,'DejaVu Sans Mono',consolas,'Courier New',monospace\"><span style=\"color: #008080; text-decoration-color: #008080\">cyan_print</span>\n",
       "</pre>\n"
      ],
      "text/plain": [
       "\u001b[36mcyan_print\u001b[0m\n"
      ]
     },
     "metadata": {},
     "output_type": "display_data"
    },
    {
     "data": {
      "text/html": [
       "<pre style=\"white-space:pre;overflow-x:auto;line-height:normal;font-family:Menlo,'DejaVu Sans Mono',consolas,'Courier New',monospace\"><span style=\"color: #008080; text-decoration-color: #008080; font-weight: bold\">bright_cyan_print</span>\n",
       "</pre>\n"
      ],
      "text/plain": [
       "\u001b[1;36mbright_cyan_print\u001b[0m\n"
      ]
     },
     "metadata": {},
     "output_type": "display_data"
    },
    {
     "data": {
      "text/html": [
       "<pre style=\"white-space:pre;overflow-x:auto;line-height:normal;font-family:Menlo,'DejaVu Sans Mono',consolas,'Courier New',monospace\"><span style=\"color: #dfdfdf; text-decoration-color: #dfdfdf\">dim_white_print</span>\n",
       "</pre>\n"
      ],
      "text/plain": [
       "\u001b[2;37mdim_white_print\u001b[0m\n"
      ]
     },
     "metadata": {},
     "output_type": "display_data"
    },
    {
     "data": {
      "text/html": [
       "<pre style=\"white-space:pre;overflow-x:auto;line-height:normal;font-family:Menlo,'DejaVu Sans Mono',consolas,'Courier New',monospace\"><span style=\"color: #c0c0c0; text-decoration-color: #c0c0c0\">white_print</span>\n",
       "</pre>\n"
      ],
      "text/plain": [
       "\u001b[37mwhite_print\u001b[0m\n"
      ]
     },
     "metadata": {},
     "output_type": "display_data"
    },
    {
     "data": {
      "text/html": [
       "<pre style=\"white-space:pre;overflow-x:auto;line-height:normal;font-family:Menlo,'DejaVu Sans Mono',consolas,'Courier New',monospace\"><span style=\"color: #c0c0c0; text-decoration-color: #c0c0c0; font-weight: bold\">bright_white_print</span>\n",
       "</pre>\n"
      ],
      "text/plain": [
       "\u001b[1;37mbright_white_print\u001b[0m\n"
      ]
     },
     "metadata": {},
     "output_type": "display_data"
    },
    {
     "data": {
      "text/html": [
       "<pre style=\"white-space:pre;overflow-x:auto;line-height:normal;font-family:Menlo,'DejaVu Sans Mono',consolas,'Courier New',monospace\"><span style=\"color: #7f7f7f; text-decoration-color: #7f7f7f\">dim_white_print</span>\n",
       "</pre>\n"
      ],
      "text/plain": [
       "\u001b[2;30mdim_white_print\u001b[0m\n"
      ]
     },
     "metadata": {},
     "output_type": "display_data"
    },
    {
     "data": {
      "text/html": [
       "<pre style=\"white-space:pre;overflow-x:auto;line-height:normal;font-family:Menlo,'DejaVu Sans Mono',consolas,'Courier New',monospace\"><span style=\"color: #000000; text-decoration-color: #000000\">black_print</span>\n",
       "</pre>\n"
      ],
      "text/plain": [
       "\u001b[30mblack_print\u001b[0m\n"
      ]
     },
     "metadata": {},
     "output_type": "display_data"
    },
    {
     "data": {
      "text/html": [
       "<pre style=\"white-space:pre;overflow-x:auto;line-height:normal;font-family:Menlo,'DejaVu Sans Mono',consolas,'Courier New',monospace\"><span style=\"color: #000000; text-decoration-color: #000000; font-weight: bold\">bright_white_print</span>\n",
       "</pre>\n"
      ],
      "text/plain": [
       "\u001b[1;30mbright_white_print\u001b[0m\n"
      ]
     },
     "metadata": {},
     "output_type": "display_data"
    }
   ],
   "source": [
    "import colorful_prints as cp\n",
    "\n",
    "# test\n",
    "from colorful_prints.test_print import TestClass\n",
    "\n",
    "a = TestClass()\n",
    "cp.danger(a, end=\"\\n\\n\")\n",
    "cp.danger(\"danger\")\n",
    "cp.warning(\"warning\")\n",
    "cp.success(\"success\")\n",
    "cp.info(\"info\")\n",
    "cp.dim_red_print(\"dim_red_print\")\n",
    "cp.red_print(\"red_print\")\n",
    "cp.bright_red_print(\"bright_red_print\")\n",
    "cp.dim_yellow_print(\"dim_yellow_print\")\n",
    "cp.yellow_print(\"yellow_print\")\n",
    "cp.bright_yellow_print(\"bright_yellow_print\")\n",
    "cp.dim_green_print(\"dim_green_print\")\n",
    "cp.green_print(\"green_print\")\n",
    "cp.bright_green_print(\"bright_green_print\")\n",
    "cp.dim_blue_print(\"dim_blue_print\")\n",
    "cp.blue_print(\"blue_print\")\n",
    "cp.bright_blue_print(\"bright_blue_print\")\n",
    "cp.dim_magenta_print(\"dim_magenta_print\")\n",
    "cp.magenta_print(\"magenta_print\")\n",
    "cp.bright_magenta_print(\"bright_magenta_print\")\n",
    "cp.dim_cyan_print(\"dim_cyan_print\")\n",
    "cp.cyan_print(\"cyan_print\")\n",
    "cp.bright_cyan_print(\"bright_cyan_print\")\n",
    "cp.dim_white_print(\"dim_white_print\")\n",
    "cp.white_print(\"white_print\")\n",
    "cp.bright_white_print(\"bright_white_print\")\n",
    "cp.dim_black_print(\"dim_white_print\")\n",
    "cp.black_print(\"black_print\")\n",
    "cp.bright_black_print(\"bright_white_print\")"
   ]
  }
 ],
 "metadata": {
  "kernelspec": {
   "display_name": "hxy_dpl",
   "language": "python",
   "name": "python3"
  },
  "language_info": {
   "codemirror_mode": {
    "name": "ipython",
    "version": 3
   },
   "file_extension": ".py",
   "mimetype": "text/x-python",
   "name": "python",
   "nbconvert_exporter": "python",
   "pygments_lexer": "ipython3",
   "version": "3.10.16"
  }
 },
 "nbformat": 4,
 "nbformat_minor": 2
}
