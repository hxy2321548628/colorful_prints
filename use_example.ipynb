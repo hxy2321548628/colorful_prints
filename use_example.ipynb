{
 "cells": [
  {
   "cell_type": "markdown",
   "metadata": {},
   "source": [
    "# 让终端的输出有颜色"
   ]
  },
  {
   "cell_type": "code",
   "execution_count": 2,
   "metadata": {},
   "outputs": [
    {
     "name": "stdout",
     "output_type": "stream",
     "text": [
      "Looking in indexes: https://mirrors.aliyun.com/pypi/simple\n",
      "Requirement already satisfied: colorful_prints in /home/hxy/PythonFile/hxy/color_print (1.1)\n",
      "Requirement already satisfied: rich in /home/hxy/miniconda3/envs/hxy_dpl/lib/python3.10/site-packages (from colorful_prints) (13.9.4)\n",
      "Requirement already satisfied: markdown-it-py>=2.2.0 in /home/hxy/miniconda3/envs/hxy_dpl/lib/python3.10/site-packages (from rich->colorful_prints) (3.0.0)\n",
      "Requirement already satisfied: pygments<3.0.0,>=2.13.0 in /home/hxy/miniconda3/envs/hxy_dpl/lib/python3.10/site-packages (from rich->colorful_prints) (2.19.1)\n",
      "Requirement already satisfied: typing-extensions<5.0,>=4.0.0 in /home/hxy/miniconda3/envs/hxy_dpl/lib/python3.10/site-packages (from rich->colorful_prints) (4.12.2)\n",
      "Requirement already satisfied: mdurl~=0.1 in /home/hxy/miniconda3/envs/hxy_dpl/lib/python3.10/site-packages (from markdown-it-py>=2.2.0->rich->colorful_prints) (0.1.2)\n",
      "Note: you may need to restart the kernel to use updated packages.\n"
     ]
    }
   ],
   "source": [
    "pip install -U colorful_prints"
   ]
  },
  {
   "cell_type": "code",
   "execution_count": 3,
   "metadata": {},
   "outputs": [],
   "source": [
    "import colorful_prints as cp"
   ]
  },
  {
   "cell_type": "code",
   "execution_count": 4,
   "metadata": {},
   "outputs": [
    {
     "data": {
      "text/html": [
       "<pre style=\"white-space:pre;overflow-x:auto;line-height:normal;font-family:Menlo,'DejaVu Sans Mono',consolas,'Courier New',monospace\"><span style=\"color: #7fbfbf; text-decoration-color: #7fbfbf\">hello world</span>\n",
       "</pre>\n"
      ],
      "text/plain": [
       "\u001b[2;36mhello world\u001b[0m\n"
      ]
     },
     "metadata": {},
     "output_type": "display_data"
    }
   ],
   "source": [
    "cp.info(\"hello world\")"
   ]
  },
  {
   "cell_type": "code",
   "execution_count": 5,
   "metadata": {},
   "outputs": [
    {
     "data": {
      "text/html": [
       "<pre style=\"white-space:pre;overflow-x:auto;line-height:normal;font-family:Menlo,'DejaVu Sans Mono',consolas,'Courier New',monospace\">!!!!\n",
       "</pre>\n"
      ],
      "text/plain": [
       "!!!!\n"
      ]
     },
     "metadata": {},
     "output_type": "display_data"
    }
   ],
   "source": [
    "cp.warning(\"!!!!\")"
   ]
  },
  {
   "cell_type": "code",
   "execution_count": 6,
   "metadata": {},
   "outputs": [
    {
     "data": {
      "text/html": [
       "<pre style=\"white-space:pre;overflow-x:auto;line-height:normal;font-family:Menlo,'DejaVu Sans Mono',consolas,'Courier New',monospace\"><span style=\"color: #800000; text-decoration-color: #800000; font-weight: bold\">error</span>\n",
       "</pre>\n"
      ],
      "text/plain": [
       "\u001b[1;31merror\u001b[0m\n"
      ]
     },
     "metadata": {},
     "output_type": "display_data"
    }
   ],
   "source": [
    "cp.danger(\"error\")"
   ]
  },
  {
   "cell_type": "code",
   "execution_count": 7,
   "metadata": {},
   "outputs": [
    {
     "data": {
      "text/html": [
       "<pre style=\"white-space:pre;overflow-x:auto;line-height:normal;font-family:Menlo,'DejaVu Sans Mono',consolas,'Courier New',monospace\"><span style=\"color: #008000; text-decoration-color: #008000\">pass</span>\n",
       "</pre>\n"
      ],
      "text/plain": [
       "\u001b[32mpass\u001b[0m\n"
      ]
     },
     "metadata": {},
     "output_type": "display_data"
    }
   ],
   "source": [
    "cp.success(\"pass\")"
   ]
  },
  {
   "cell_type": "code",
   "execution_count": 8,
   "metadata": {},
   "outputs": [
    {
     "data": {
      "text/html": [
       "<pre style=\"white-space:pre;overflow-x:auto;line-height:normal;font-family:Menlo,'DejaVu Sans Mono',consolas,'Courier New',monospace\"><span style=\"color: #c0c0c0; text-decoration-color: #c0c0c0\">green</span>\n",
       "</pre>\n"
      ],
      "text/plain": [
       "\u001b[37mgreen\u001b[0m\n"
      ]
     },
     "metadata": {},
     "output_type": "display_data"
    }
   ],
   "source": [
    "cp.white_print(\"green\")"
   ]
  },
  {
   "cell_type": "markdown",
   "metadata": {},
   "source": [
    "# 下面时可以调用的所有函数\n",
    "\n",
    " `colorful_print`\n",
    " \n",
    " `yellow_print`\n",
    " \n",
    " `red_print`\n",
    " \n",
    " `green_print`\n",
    " \n",
    " `blue_print`\n",
    " \n",
    " `magenta_print`\n",
    " \n",
    " `cyan_print`\n",
    " \n",
    " `white_print`\n",
    " \n",
    " `black_print`\n",
    " \n",
    " `bright_red_print`\n",
    " \n",
    " `bright_green_print`\n",
    " \n",
    " `bright_blue_print`\n",
    " \n",
    " `bright_yellow_print`\n",
    " \n",
    " `bright_magenta_print`\n",
    " \n",
    " `bright_cyan_print`\n",
    " \n",
    " `bright_white_print`\n",
    " \n",
    " `dim_red_print`\n",
    " \n",
    " `dim_green_print`\n",
    " \n",
    " `dim_blue_print`\n",
    " \n",
    " `dim_yellow_print`\n",
    " \n",
    " `dim_magenta_print`\n",
    " \n",
    " `dim_cyan_print`\n",
    " \n",
    " `dim_white_print`\n",
    " \n",
    " `danger`\n",
    " \n",
    " `success`\n",
    " \n",
    " `info`\n",
    " \n",
    " `warning`\n",
    " "
   ]
  },
  {
   "cell_type": "code",
   "execution_count": 9,
   "metadata": {},
   "outputs": [
    {
     "data": {
      "text/plain": [
       "['__name__',\n",
       " '__doc__',\n",
       " '__package__',\n",
       " '__loader__',\n",
       " '__spec__',\n",
       " '__path__',\n",
       " '__file__',\n",
       " '__cached__',\n",
       " '__builtins__',\n",
       " 'colorful_print',\n",
       " 'yellow_print',\n",
       " 'red_print',\n",
       " 'green_print',\n",
       " 'blue_print',\n",
       " 'magenta_print',\n",
       " 'cyan_print',\n",
       " 'white_print',\n",
       " 'black_print',\n",
       " 'bright_red_print',\n",
       " 'bright_green_print',\n",
       " 'bright_blue_print',\n",
       " 'bright_yellow_print',\n",
       " 'bright_magenta_print',\n",
       " 'bright_cyan_print',\n",
       " 'bright_white_print',\n",
       " 'dim_red_print',\n",
       " 'dim_green_print',\n",
       " 'dim_blue_print',\n",
       " 'dim_yellow_print',\n",
       " 'dim_magenta_print',\n",
       " 'dim_cyan_print',\n",
       " 'dim_white_print',\n",
       " 'danger',\n",
       " 'success',\n",
       " 'info',\n",
       " 'warning']"
      ]
     },
     "execution_count": 9,
     "metadata": {},
     "output_type": "execute_result"
    }
   ],
   "source": [
    "cp.__dir__()"
   ]
  },
  {
   "cell_type": "code",
   "execution_count": null,
   "metadata": {},
   "outputs": [],
   "source": []
  }
 ],
 "metadata": {
  "kernelspec": {
   "display_name": "hxy_dpl",
   "language": "python",
   "name": "python3"
  },
  "language_info": {
   "codemirror_mode": {
    "name": "ipython",
    "version": 3
   },
   "file_extension": ".py",
   "mimetype": "text/x-python",
   "name": "python",
   "nbconvert_exporter": "python",
   "pygments_lexer": "ipython3",
   "version": "3.10.16"
  }
 },
 "nbformat": 4,
 "nbformat_minor": 2
}
