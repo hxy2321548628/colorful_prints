{
 "cells": [
  {
   "cell_type": "markdown",
   "metadata": {},
   "source": [
    "# 让终端的输出有颜色"
   ]
  },
  {
   "cell_type": "code",
   "execution_count": 9,
   "metadata": {},
   "outputs": [
    {
     "name": "stdout",
     "output_type": "stream",
     "text": [
      "Looking in indexes: https://mirrors.aliyun.com/pypi/simple\n",
      "Requirement already satisfied: colorful-prints in /home/hxy/miniconda3/envs/hxy_dpl/lib/python3.10/site-packages (1.0)\n",
      "Requirement already satisfied: rich in /home/hxy/miniconda3/envs/hxy_dpl/lib/python3.10/site-packages (from colorful-prints) (13.9.4)\n",
      "Requirement already satisfied: markdown-it-py>=2.2.0 in /home/hxy/miniconda3/envs/hxy_dpl/lib/python3.10/site-packages (from rich->colorful-prints) (3.0.0)\n",
      "Requirement already satisfied: pygments<3.0.0,>=2.13.0 in /home/hxy/miniconda3/envs/hxy_dpl/lib/python3.10/site-packages (from rich->colorful-prints) (2.19.1)\n",
      "Requirement already satisfied: typing-extensions<5.0,>=4.0.0 in /home/hxy/miniconda3/envs/hxy_dpl/lib/python3.10/site-packages (from rich->colorful-prints) (4.12.2)\n",
      "Requirement already satisfied: mdurl~=0.1 in /home/hxy/miniconda3/envs/hxy_dpl/lib/python3.10/site-packages (from markdown-it-py>=2.2.0->rich->colorful-prints) (0.1.2)\n",
      "Note: you may need to restart the kernel to use updated packages.\n"
     ]
    }
   ],
   "source": [
    "pip install -U colorful-prints"
   ]
  },
  {
   "cell_type": "code",
   "execution_count": 1,
   "metadata": {},
   "outputs": [],
   "source": [
    "import colorful_prints as cp"
   ]
  },
  {
   "cell_type": "code",
   "execution_count": 3,
   "metadata": {},
   "outputs": [
    {
     "data": {
      "text/html": [
       "<pre style=\"white-space:pre;overflow-x:auto;line-height:normal;font-family:Menlo,'DejaVu Sans Mono',consolas,'Courier New',monospace\"><span style=\"color: #808000; text-decoration-color: #808000\">hello world</span>\n",
       "</pre>\n"
      ],
      "text/plain": [
       "\u001b[33mhello world\u001b[0m\n"
      ]
     },
     "metadata": {},
     "output_type": "display_data"
    }
   ],
   "source": [
    "cp.warning(\"hello world\")"
   ]
  },
  {
   "cell_type": "code",
   "execution_count": 4,
   "metadata": {},
   "outputs": [
    {
     "data": {
      "text/html": [
       "<pre style=\"white-space:pre;overflow-x:auto;line-height:normal;font-family:Menlo,'DejaVu Sans Mono',consolas,'Courier New',monospace\"><span style=\"color: #000080; text-decoration-color: #000080\">hello world</span>\n",
       "</pre>\n"
      ],
      "text/plain": [
       "\u001b[34mhello world\u001b[0m\n"
      ]
     },
     "metadata": {},
     "output_type": "display_data"
    }
   ],
   "source": [
    "cp.info(\"hello world\")"
   ]
  },
  {
   "cell_type": "code",
   "execution_count": 5,
   "metadata": {},
   "outputs": [
    {
     "data": {
      "text/html": [
       "<pre style=\"white-space:pre;overflow-x:auto;line-height:normal;font-family:Menlo,'DejaVu Sans Mono',consolas,'Courier New',monospace\"><span style=\"color: #808000; text-decoration-color: #808000\">!!!!</span>\n",
       "</pre>\n"
      ],
      "text/plain": [
       "\u001b[33m!!!!\u001b[0m\n"
      ]
     },
     "metadata": {},
     "output_type": "display_data"
    }
   ],
   "source": [
    "cp.warning(\"!!!!\")"
   ]
  },
  {
   "cell_type": "code",
   "execution_count": 6,
   "metadata": {},
   "outputs": [
    {
     "data": {
      "text/html": [
       "<pre style=\"white-space:pre;overflow-x:auto;line-height:normal;font-family:Menlo,'DejaVu Sans Mono',consolas,'Courier New',monospace\"><span style=\"color: #800000; text-decoration-color: #800000; font-weight: bold\">error</span>\n",
       "</pre>\n"
      ],
      "text/plain": [
       "\u001b[1;31merror\u001b[0m\n"
      ]
     },
     "metadata": {},
     "output_type": "display_data"
    }
   ],
   "source": [
    "cp.danger(\"error\")"
   ]
  },
  {
   "cell_type": "code",
   "execution_count": 7,
   "metadata": {},
   "outputs": [
    {
     "data": {
      "text/html": [
       "<pre style=\"white-space:pre;overflow-x:auto;line-height:normal;font-family:Menlo,'DejaVu Sans Mono',consolas,'Courier New',monospace\"><span style=\"color: #008000; text-decoration-color: #008000\">pass</span>\n",
       "</pre>\n"
      ],
      "text/plain": [
       "\u001b[32mpass\u001b[0m\n"
      ]
     },
     "metadata": {},
     "output_type": "display_data"
    }
   ],
   "source": [
    "cp.success(\"pass\")"
   ]
  },
  {
   "cell_type": "code",
   "execution_count": 8,
   "metadata": {},
   "outputs": [
    {
     "data": {
      "text/html": [
       "<pre style=\"white-space:pre;overflow-x:auto;line-height:normal;font-family:Menlo,'DejaVu Sans Mono',consolas,'Courier New',monospace\"><span style=\"color: #c0c0c0; text-decoration-color: #c0c0c0\">green</span>\n",
       "</pre>\n"
      ],
      "text/plain": [
       "\u001b[37mgreen\u001b[0m\n"
      ]
     },
     "metadata": {},
     "output_type": "display_data"
    }
   ],
   "source": [
    "cp.white_print(\"green\")"
   ]
  },
  {
   "cell_type": "markdown",
   "metadata": {},
   "source": [
    "# 下面时可以调用的所有函数\n",
    "\n",
    " `colorful_print`\n",
    " \n",
    " `yellow_print`\n",
    " \n",
    " `red_print`\n",
    " \n",
    " `green_print`\n",
    " \n",
    " `blue_print`\n",
    " \n",
    " `magenta_print`\n",
    " \n",
    " `cyan_print`\n",
    " \n",
    " `white_print`\n",
    " \n",
    " `black_print`\n",
    " \n",
    " `bright_red_print`\n",
    " \n",
    " `bright_green_print`\n",
    " \n",
    " `bright_blue_print`\n",
    " \n",
    " `bright_yellow_print`\n",
    " \n",
    " `bright_magenta_print`\n",
    " \n",
    " `bright_cyan_print`\n",
    " \n",
    " `bright_white_print`\n",
    " \n",
    " `dim_red_print`\n",
    " \n",
    " `dim_green_print`\n",
    " \n",
    " `dim_blue_print`\n",
    " \n",
    " `dim_yellow_print`\n",
    " \n",
    " `dim_magenta_print`\n",
    " \n",
    " `dim_cyan_print`\n",
    " \n",
    " `dim_white_print`\n",
    " \n",
    " `danger`\n",
    " \n",
    " `success`\n",
    " \n",
    " `info`\n",
    " \n",
    " `warning`\n",
    " "
   ]
  },
  {
   "cell_type": "code",
   "execution_count": 9,
   "metadata": {},
   "outputs": [
    {
     "data": {
      "text/plain": [
       "['__name__',\n",
       " '__doc__',\n",
       " '__package__',\n",
       " '__loader__',\n",
       " '__spec__',\n",
       " '__path__',\n",
       " '__file__',\n",
       " '__cached__',\n",
       " '__builtins__',\n",
       " 'colorful_print',\n",
       " 'yellow_print',\n",
       " 'red_print',\n",
       " 'green_print',\n",
       " 'blue_print',\n",
       " 'magenta_print',\n",
       " 'cyan_print',\n",
       " 'white_print',\n",
       " 'black_print',\n",
       " 'bright_red_print',\n",
       " 'bright_green_print',\n",
       " 'bright_blue_print',\n",
       " 'bright_yellow_print',\n",
       " 'bright_magenta_print',\n",
       " 'bright_cyan_print',\n",
       " 'bright_white_print',\n",
       " 'dim_red_print',\n",
       " 'dim_green_print',\n",
       " 'dim_blue_print',\n",
       " 'dim_yellow_print',\n",
       " 'dim_magenta_print',\n",
       " 'dim_cyan_print',\n",
       " 'dim_white_print',\n",
       " 'danger',\n",
       " 'success',\n",
       " 'info',\n",
       " 'warning']"
      ]
     },
     "execution_count": 9,
     "metadata": {},
     "output_type": "execute_result"
    }
   ],
   "source": [
    "cp.__dir__()"
   ]
  },
  {
   "cell_type": "code",
   "execution_count": 1,
   "metadata": {},
   "outputs": [
    {
     "data": {
      "text/html": [
       "<pre style=\"white-space:pre;overflow-x:auto;line-height:normal;font-family:Menlo,'DejaVu Sans Mono',consolas,'Courier New',monospace\"><span style=\"color: #800000; text-decoration-color: #800000; font-weight: bold\">TestClass instance as string</span>\n",
       "\n",
       "</pre>\n"
      ],
      "text/plain": [
       "\u001b[1;31mTestClass instance as string\u001b[0m\n",
       "\n"
      ]
     },
     "metadata": {},
     "output_type": "display_data"
    },
    {
     "data": {
      "text/html": [
       "<pre style=\"white-space:pre;overflow-x:auto;line-height:normal;font-family:Menlo,'DejaVu Sans Mono',consolas,'Courier New',monospace\"><span style=\"color: #800000; text-decoration-color: #800000; font-weight: bold\">danger</span>\n",
       "</pre>\n"
      ],
      "text/plain": [
       "\u001b[1;31mdanger\u001b[0m\n"
      ]
     },
     "metadata": {},
     "output_type": "display_data"
    },
    {
     "data": {
      "text/html": [
       "<pre style=\"white-space:pre;overflow-x:auto;line-height:normal;font-family:Menlo,'DejaVu Sans Mono',consolas,'Courier New',monospace\"><span style=\"color: #808000; text-decoration-color: #808000\">warning</span>\n",
       "</pre>\n"
      ],
      "text/plain": [
       "\u001b[33mwarning\u001b[0m\n"
      ]
     },
     "metadata": {},
     "output_type": "display_data"
    },
    {
     "data": {
      "text/html": [
       "<pre style=\"white-space:pre;overflow-x:auto;line-height:normal;font-family:Menlo,'DejaVu Sans Mono',consolas,'Courier New',monospace\"><span style=\"color: #008000; text-decoration-color: #008000\">success</span>\n",
       "</pre>\n"
      ],
      "text/plain": [
       "\u001b[32msuccess\u001b[0m\n"
      ]
     },
     "metadata": {},
     "output_type": "display_data"
    },
    {
     "data": {
      "text/html": [
       "<pre style=\"white-space:pre;overflow-x:auto;line-height:normal;font-family:Menlo,'DejaVu Sans Mono',consolas,'Courier New',monospace\"><span style=\"color: #000080; text-decoration-color: #000080\">info</span>\n",
       "</pre>\n"
      ],
      "text/plain": [
       "\u001b[34minfo\u001b[0m\n"
      ]
     },
     "metadata": {},
     "output_type": "display_data"
    },
    {
     "data": {
      "text/html": [
       "<pre style=\"white-space:pre;overflow-x:auto;line-height:normal;font-family:Menlo,'DejaVu Sans Mono',consolas,'Courier New',monospace\"><span style=\"color: #bf7f7f; text-decoration-color: #bf7f7f\">dim_red_print</span>\n",
       "</pre>\n"
      ],
      "text/plain": [
       "\u001b[2;31mdim_red_print\u001b[0m\n"
      ]
     },
     "metadata": {},
     "output_type": "display_data"
    },
    {
     "data": {
      "text/html": [
       "<pre style=\"white-space:pre;overflow-x:auto;line-height:normal;font-family:Menlo,'DejaVu Sans Mono',consolas,'Courier New',monospace\"><span style=\"color: #800000; text-decoration-color: #800000\">red_print</span>\n",
       "</pre>\n"
      ],
      "text/plain": [
       "\u001b[31mred_print\u001b[0m\n"
      ]
     },
     "metadata": {},
     "output_type": "display_data"
    },
    {
     "data": {
      "text/html": [
       "<pre style=\"white-space:pre;overflow-x:auto;line-height:normal;font-family:Menlo,'DejaVu Sans Mono',consolas,'Courier New',monospace\"><span style=\"color: #800000; text-decoration-color: #800000; font-weight: bold\">bright_red_print</span>\n",
       "</pre>\n"
      ],
      "text/plain": [
       "\u001b[1;31mbright_red_print\u001b[0m\n"
      ]
     },
     "metadata": {},
     "output_type": "display_data"
    },
    {
     "data": {
      "text/html": [
       "<pre style=\"white-space:pre;overflow-x:auto;line-height:normal;font-family:Menlo,'DejaVu Sans Mono',consolas,'Courier New',monospace\"><span style=\"color: #bfbf7f; text-decoration-color: #bfbf7f\">dim_yellow_print</span>\n",
       "</pre>\n"
      ],
      "text/plain": [
       "\u001b[2;33mdim_yellow_print\u001b[0m\n"
      ]
     },
     "metadata": {},
     "output_type": "display_data"
    },
    {
     "data": {
      "text/html": [
       "<pre style=\"white-space:pre;overflow-x:auto;line-height:normal;font-family:Menlo,'DejaVu Sans Mono',consolas,'Courier New',monospace\"><span style=\"color: #808000; text-decoration-color: #808000\">yellow_print</span>\n",
       "</pre>\n"
      ],
      "text/plain": [
       "\u001b[33myellow_print\u001b[0m\n"
      ]
     },
     "metadata": {},
     "output_type": "display_data"
    },
    {
     "data": {
      "text/html": [
       "<pre style=\"white-space:pre;overflow-x:auto;line-height:normal;font-family:Menlo,'DejaVu Sans Mono',consolas,'Courier New',monospace\"><span style=\"color: #808000; text-decoration-color: #808000; font-weight: bold\">bright_yellow_print</span>\n",
       "</pre>\n"
      ],
      "text/plain": [
       "\u001b[1;33mbright_yellow_print\u001b[0m\n"
      ]
     },
     "metadata": {},
     "output_type": "display_data"
    },
    {
     "data": {
      "text/html": [
       "<pre style=\"white-space:pre;overflow-x:auto;line-height:normal;font-family:Menlo,'DejaVu Sans Mono',consolas,'Courier New',monospace\"><span style=\"color: #7fbf7f; text-decoration-color: #7fbf7f\">dim_green_print</span>\n",
       "</pre>\n"
      ],
      "text/plain": [
       "\u001b[2;32mdim_green_print\u001b[0m\n"
      ]
     },
     "metadata": {},
     "output_type": "display_data"
    },
    {
     "data": {
      "text/html": [
       "<pre style=\"white-space:pre;overflow-x:auto;line-height:normal;font-family:Menlo,'DejaVu Sans Mono',consolas,'Courier New',monospace\"><span style=\"color: #008000; text-decoration-color: #008000\">green_print</span>\n",
       "</pre>\n"
      ],
      "text/plain": [
       "\u001b[32mgreen_print\u001b[0m\n"
      ]
     },
     "metadata": {},
     "output_type": "display_data"
    },
    {
     "data": {
      "text/html": [
       "<pre style=\"white-space:pre;overflow-x:auto;line-height:normal;font-family:Menlo,'DejaVu Sans Mono',consolas,'Courier New',monospace\"><span style=\"color: #008000; text-decoration-color: #008000; font-weight: bold\">bright_green_print</span>\n",
       "</pre>\n"
      ],
      "text/plain": [
       "\u001b[1;32mbright_green_print\u001b[0m\n"
      ]
     },
     "metadata": {},
     "output_type": "display_data"
    },
    {
     "data": {
      "text/html": [
       "<pre style=\"white-space:pre;overflow-x:auto;line-height:normal;font-family:Menlo,'DejaVu Sans Mono',consolas,'Courier New',monospace\"><span style=\"color: #7f7fbf; text-decoration-color: #7f7fbf\">dim_blue_print</span>\n",
       "</pre>\n"
      ],
      "text/plain": [
       "\u001b[2;34mdim_blue_print\u001b[0m\n"
      ]
     },
     "metadata": {},
     "output_type": "display_data"
    },
    {
     "data": {
      "text/html": [
       "<pre style=\"white-space:pre;overflow-x:auto;line-height:normal;font-family:Menlo,'DejaVu Sans Mono',consolas,'Courier New',monospace\"><span style=\"color: #000080; text-decoration-color: #000080\">blue_print</span>\n",
       "</pre>\n"
      ],
      "text/plain": [
       "\u001b[34mblue_print\u001b[0m\n"
      ]
     },
     "metadata": {},
     "output_type": "display_data"
    },
    {
     "data": {
      "text/html": [
       "<pre style=\"white-space:pre;overflow-x:auto;line-height:normal;font-family:Menlo,'DejaVu Sans Mono',consolas,'Courier New',monospace\"><span style=\"color: #000080; text-decoration-color: #000080; font-weight: bold\">bright_blue_print</span>\n",
       "</pre>\n"
      ],
      "text/plain": [
       "\u001b[1;34mbright_blue_print\u001b[0m\n"
      ]
     },
     "metadata": {},
     "output_type": "display_data"
    },
    {
     "data": {
      "text/html": [
       "<pre style=\"white-space:pre;overflow-x:auto;line-height:normal;font-family:Menlo,'DejaVu Sans Mono',consolas,'Courier New',monospace\"><span style=\"color: #bf7fbf; text-decoration-color: #bf7fbf\">dim_magenta_print</span>\n",
       "</pre>\n"
      ],
      "text/plain": [
       "\u001b[2;35mdim_magenta_print\u001b[0m\n"
      ]
     },
     "metadata": {},
     "output_type": "display_data"
    },
    {
     "data": {
      "text/html": [
       "<pre style=\"white-space:pre;overflow-x:auto;line-height:normal;font-family:Menlo,'DejaVu Sans Mono',consolas,'Courier New',monospace\"><span style=\"color: #800080; text-decoration-color: #800080\">magenta_print</span>\n",
       "</pre>\n"
      ],
      "text/plain": [
       "\u001b[35mmagenta_print\u001b[0m\n"
      ]
     },
     "metadata": {},
     "output_type": "display_data"
    },
    {
     "data": {
      "text/html": [
       "<pre style=\"white-space:pre;overflow-x:auto;line-height:normal;font-family:Menlo,'DejaVu Sans Mono',consolas,'Courier New',monospace\"><span style=\"color: #800080; text-decoration-color: #800080; font-weight: bold\">bright_magenta_print</span>\n",
       "</pre>\n"
      ],
      "text/plain": [
       "\u001b[1;35mbright_magenta_print\u001b[0m\n"
      ]
     },
     "metadata": {},
     "output_type": "display_data"
    },
    {
     "data": {
      "text/html": [
       "<pre style=\"white-space:pre;overflow-x:auto;line-height:normal;font-family:Menlo,'DejaVu Sans Mono',consolas,'Courier New',monospace\"><span style=\"color: #7fbfbf; text-decoration-color: #7fbfbf\">dim_cyan_print</span>\n",
       "</pre>\n"
      ],
      "text/plain": [
       "\u001b[2;36mdim_cyan_print\u001b[0m\n"
      ]
     },
     "metadata": {},
     "output_type": "display_data"
    },
    {
     "data": {
      "text/html": [
       "<pre style=\"white-space:pre;overflow-x:auto;line-height:normal;font-family:Menlo,'DejaVu Sans Mono',consolas,'Courier New',monospace\"><span style=\"color: #008080; text-decoration-color: #008080\">cyan_print</span>\n",
       "</pre>\n"
      ],
      "text/plain": [
       "\u001b[36mcyan_print\u001b[0m\n"
      ]
     },
     "metadata": {},
     "output_type": "display_data"
    },
    {
     "data": {
      "text/html": [
       "<pre style=\"white-space:pre;overflow-x:auto;line-height:normal;font-family:Menlo,'DejaVu Sans Mono',consolas,'Courier New',monospace\"><span style=\"color: #008080; text-decoration-color: #008080; font-weight: bold\">bright_cyan_print</span>\n",
       "</pre>\n"
      ],
      "text/plain": [
       "\u001b[1;36mbright_cyan_print\u001b[0m\n"
      ]
     },
     "metadata": {},
     "output_type": "display_data"
    },
    {
     "data": {
      "text/html": [
       "<pre style=\"white-space:pre;overflow-x:auto;line-height:normal;font-family:Menlo,'DejaVu Sans Mono',consolas,'Courier New',monospace\"><span style=\"color: #dfdfdf; text-decoration-color: #dfdfdf\">dim_white_print</span>\n",
       "</pre>\n"
      ],
      "text/plain": [
       "\u001b[2;37mdim_white_print\u001b[0m\n"
      ]
     },
     "metadata": {},
     "output_type": "display_data"
    },
    {
     "data": {
      "text/html": [
       "<pre style=\"white-space:pre;overflow-x:auto;line-height:normal;font-family:Menlo,'DejaVu Sans Mono',consolas,'Courier New',monospace\"><span style=\"color: #c0c0c0; text-decoration-color: #c0c0c0\">white_print</span>\n",
       "</pre>\n"
      ],
      "text/plain": [
       "\u001b[37mwhite_print\u001b[0m\n"
      ]
     },
     "metadata": {},
     "output_type": "display_data"
    },
    {
     "data": {
      "text/html": [
       "<pre style=\"white-space:pre;overflow-x:auto;line-height:normal;font-family:Menlo,'DejaVu Sans Mono',consolas,'Courier New',monospace\"><span style=\"color: #c0c0c0; text-decoration-color: #c0c0c0; font-weight: bold\">bright_white_print</span>\n",
       "</pre>\n"
      ],
      "text/plain": [
       "\u001b[1;37mbright_white_print\u001b[0m\n"
      ]
     },
     "metadata": {},
     "output_type": "display_data"
    },
    {
     "data": {
      "text/html": [
       "<pre style=\"white-space:pre;overflow-x:auto;line-height:normal;font-family:Menlo,'DejaVu Sans Mono',consolas,'Courier New',monospace\"><span style=\"color: #7f7f7f; text-decoration-color: #7f7f7f\">dim_white_print</span>\n",
       "</pre>\n"
      ],
      "text/plain": [
       "\u001b[2;30mdim_white_print\u001b[0m\n"
      ]
     },
     "metadata": {},
     "output_type": "display_data"
    },
    {
     "data": {
      "text/html": [
       "<pre style=\"white-space:pre;overflow-x:auto;line-height:normal;font-family:Menlo,'DejaVu Sans Mono',consolas,'Courier New',monospace\"><span style=\"color: #000000; text-decoration-color: #000000\">black_print</span>\n",
       "</pre>\n"
      ],
      "text/plain": [
       "\u001b[30mblack_print\u001b[0m\n"
      ]
     },
     "metadata": {},
     "output_type": "display_data"
    },
    {
     "data": {
      "text/html": [
       "<pre style=\"white-space:pre;overflow-x:auto;line-height:normal;font-family:Menlo,'DejaVu Sans Mono',consolas,'Courier New',monospace\"><span style=\"color: #000000; text-decoration-color: #000000; font-weight: bold\">bright_white_print</span>\n",
       "</pre>\n"
      ],
      "text/plain": [
       "\u001b[1;30mbright_white_print\u001b[0m\n"
      ]
     },
     "metadata": {},
     "output_type": "display_data"
    }
   ],
   "source": [
    "import colorful_prints as cp\n",
    "\n",
    "# test\n",
    "from colorful_prints.test_print import TestClass\n",
    "\n",
    "a = TestClass()\n",
    "cp.danger(a, end=\"\\n\\n\")\n",
    "cp.danger(\"danger\")\n",
    "cp.warning(\"warning\")\n",
    "cp.success(\"success\")\n",
    "cp.info(\"info\")\n",
    "cp.dim_red_print(\"dim_red_print\")\n",
    "cp.red_print(\"red_print\")\n",
    "cp.bright_red_print(\"bright_red_print\")\n",
    "cp.dim_yellow_print(\"dim_yellow_print\")\n",
    "cp.yellow_print(\"yellow_print\")\n",
    "cp.bright_yellow_print(\"bright_yellow_print\")\n",
    "cp.dim_green_print(\"dim_green_print\")\n",
    "cp.green_print(\"green_print\")\n",
    "cp.bright_green_print(\"bright_green_print\")\n",
    "cp.dim_blue_print(\"dim_blue_print\")\n",
    "cp.blue_print(\"blue_print\")\n",
    "cp.bright_blue_print(\"bright_blue_print\")\n",
    "cp.dim_magenta_print(\"dim_magenta_print\")\n",
    "cp.magenta_print(\"magenta_print\")\n",
    "cp.bright_magenta_print(\"bright_magenta_print\")\n",
    "cp.dim_cyan_print(\"dim_cyan_print\")\n",
    "cp.cyan_print(\"cyan_print\")\n",
    "cp.bright_cyan_print(\"bright_cyan_print\")\n",
    "cp.dim_white_print(\"dim_white_print\")\n",
    "cp.white_print(\"white_print\")\n",
    "cp.bright_white_print(\"bright_white_print\")\n",
    "cp.dim_black_print(\"dim_white_print\")\n",
    "cp.black_print(\"black_print\")\n",
    "cp.bright_black_print(\"bright_white_print\")"
   ]
  }
 ],
 "metadata": {
  "kernelspec": {
   "display_name": "hxy_dpl",
   "language": "python",
   "name": "python3"
  },
  "language_info": {
   "codemirror_mode": {
    "name": "ipython",
    "version": 3
   },
   "file_extension": ".py",
   "mimetype": "text/x-python",
   "name": "python",
   "nbconvert_exporter": "python",
   "pygments_lexer": "ipython3",
   "version": "3.10.16"
  }
 },
 "nbformat": 4,
 "nbformat_minor": 2
}
