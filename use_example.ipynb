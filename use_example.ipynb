{
 "cells": [
  {
   "cell_type": "markdown",
   "metadata": {},
   "source": [
    "# 让终端的输出有颜色"
   ]
  },
  {
   "cell_type": "code",
   "execution_count": 9,
   "metadata": {},
   "outputs": [
    {
     "name": "stdout",
     "output_type": "stream",
     "text": [
      "Looking in indexes: https://mirrors.aliyun.com/pypi/simple\n",
      "Requirement already satisfied: colorful-prints in /home/hxy/miniconda3/envs/hxy_dpl/lib/python3.10/site-packages (1.0)\n",
      "Requirement already satisfied: rich in /home/hxy/miniconda3/envs/hxy_dpl/lib/python3.10/site-packages (from colorful-prints) (13.9.4)\n",
      "Requirement already satisfied: markdown-it-py>=2.2.0 in /home/hxy/miniconda3/envs/hxy_dpl/lib/python3.10/site-packages (from rich->colorful-prints) (3.0.0)\n",
      "Requirement already satisfied: pygments<3.0.0,>=2.13.0 in /home/hxy/miniconda3/envs/hxy_dpl/lib/python3.10/site-packages (from rich->colorful-prints) (2.19.1)\n",
      "Requirement already satisfied: typing-extensions<5.0,>=4.0.0 in /home/hxy/miniconda3/envs/hxy_dpl/lib/python3.10/site-packages (from rich->colorful-prints) (4.12.2)\n",
      "Requirement already satisfied: mdurl~=0.1 in /home/hxy/miniconda3/envs/hxy_dpl/lib/python3.10/site-packages (from markdown-it-py>=2.2.0->rich->colorful-prints) (0.1.2)\n",
      "Note: you may need to restart the kernel to use updated packages.\n"
     ]
    }
   ],
   "source": [
    "pip install -U colorful-prints"
   ]
  },
  {
   "cell_type": "code",
   "execution_count": 1,
   "metadata": {},
   "outputs": [],
   "source": [
    "import colorful_prints as cp"
   ]
  },
  {
   "cell_type": "code",
   "execution_count": 3,
   "metadata": {},
   "outputs": [
    {
     "data": {
      "text/html": [
       "<pre style=\"white-space:pre;overflow-x:auto;line-height:normal;font-family:Menlo,'DejaVu Sans Mono',consolas,'Courier New',monospace\"><span style=\"color: #808000; text-decoration-color: #808000\">hello world</span>\n",
       "</pre>\n"
      ],
      "text/plain": [
       "\u001b[33mhello world\u001b[0m\n"
      ]
     },
     "metadata": {},
     "output_type": "display_data"
    }
   ],
   "source": [
    "cp.warning(\"hello world\")"
   ]
  },
  {
   "cell_type": "code",
   "execution_count": 4,
   "metadata": {},
   "outputs": [
    {
     "data": {
      "text/html": [
       "<pre style=\"white-space:pre;overflow-x:auto;line-height:normal;font-family:Menlo,'DejaVu Sans Mono',consolas,'Courier New',monospace\"><span style=\"color: #000080; text-decoration-color: #000080\">hello world</span>\n",
       "</pre>\n"
      ],
      "text/plain": [
       "\u001b[34mhello world\u001b[0m\n"
      ]
     },
     "metadata": {},
     "output_type": "display_data"
    }
   ],
   "source": [
    "cp.info(\"hello world\")"
   ]
  },
  {
   "cell_type": "code",
   "execution_count": 5,
   "metadata": {},
   "outputs": [
    {
     "data": {
      "text/html": [
       "<pre style=\"white-space:pre;overflow-x:auto;line-height:normal;font-family:Menlo,'DejaVu Sans Mono',consolas,'Courier New',monospace\"><span style=\"color: #808000; text-decoration-color: #808000\">!!!!</span>\n",
       "</pre>\n"
      ],
      "text/plain": [
       "\u001b[33m!!!!\u001b[0m\n"
      ]
     },
     "metadata": {},
     "output_type": "display_data"
    }
   ],
   "source": [
    "cp.warning(\"!!!!\")"
   ]
  },
  {
   "cell_type": "code",
   "execution_count": 6,
   "metadata": {},
   "outputs": [
    {
     "data": {
      "text/html": [
       "<pre style=\"white-space:pre;overflow-x:auto;line-height:normal;font-family:Menlo,'DejaVu Sans Mono',consolas,'Courier New',monospace\"><span style=\"color: #800000; text-decoration-color: #800000; font-weight: bold\">error</span>\n",
       "</pre>\n"
      ],
      "text/plain": [
       "\u001b[1;31merror\u001b[0m\n"
      ]
     },
     "metadata": {},
     "output_type": "display_data"
    }
   ],
   "source": [
    "cp.danger(\"error\")"
   ]
  },
  {
   "cell_type": "code",
   "execution_count": 7,
   "metadata": {},
   "outputs": [
    {
     "data": {
      "text/html": [
       "<pre style=\"white-space:pre;overflow-x:auto;line-height:normal;font-family:Menlo,'DejaVu Sans Mono',consolas,'Courier New',monospace\"><span style=\"color: #008000; text-decoration-color: #008000\">pass</span>\n",
       "</pre>\n"
      ],
      "text/plain": [
       "\u001b[32mpass\u001b[0m\n"
      ]
     },
     "metadata": {},
     "output_type": "display_data"
    }
   ],
   "source": [
    "cp.success(\"pass\")"
   ]
  },
  {
   "cell_type": "code",
   "execution_count": 8,
   "metadata": {},
   "outputs": [
    {
     "data": {
      "text/html": [
       "<pre style=\"white-space:pre;overflow-x:auto;line-height:normal;font-family:Menlo,'DejaVu Sans Mono',consolas,'Courier New',monospace\"><span style=\"color: #c0c0c0; text-decoration-color: #c0c0c0\">green</span>\n",
       "</pre>\n"
      ],
      "text/plain": [
       "\u001b[37mgreen\u001b[0m\n"
      ]
     },
     "metadata": {},
     "output_type": "display_data"
    }
   ],
   "source": [
    "cp.white_print(\"green\")"
   ]
  },
  {
   "cell_type": "markdown",
   "metadata": {},
   "source": [
    "# 下面时可以调用的所有函数\n",
    "\n",
    " `colorful_print`\n",
    " \n",
    " `yellow_print`\n",
    " \n",
    " `red_print`\n",
    " \n",
    " `green_print`\n",
    " \n",
    " `blue_print`\n",
    " \n",
    " `magenta_print`\n",
    " \n",
    " `cyan_print`\n",
    " \n",
    " `white_print`\n",
    " \n",
    " `black_print`\n",
    " \n",
    " `bright_red_print`\n",
    " \n",
    " `bright_green_print`\n",
    " \n",
    " `bright_blue_print`\n",
    " \n",
    " `bright_yellow_print`\n",
    " \n",
    " `bright_magenta_print`\n",
    " \n",
    " `bright_cyan_print`\n",
    " \n",
    " `bright_white_print`\n",
    " \n",
    " `dim_red_print`\n",
    " \n",
    " `dim_green_print`\n",
    " \n",
    " `dim_blue_print`\n",
    " \n",
    " `dim_yellow_print`\n",
    " \n",
    " `dim_magenta_print`\n",
    " \n",
    " `dim_cyan_print`\n",
    " \n",
    " `dim_white_print`\n",
    " \n",
    " `danger`\n",
    " \n",
    " `success`\n",
    " \n",
    " `info`\n",
    " \n",
    " `warning`\n",
    " "
   ]
  },
  {
   "cell_type": "code",
   "execution_count": 9,
   "metadata": {},
   "outputs": [
    {
     "data": {
      "text/plain": [
       "['__name__',\n",
       " '__doc__',\n",
       " '__package__',\n",
       " '__loader__',\n",
       " '__spec__',\n",
       " '__path__',\n",
       " '__file__',\n",
       " '__cached__',\n",
       " '__builtins__',\n",
       " 'colorful_print',\n",
       " 'yellow_print',\n",
       " 'red_print',\n",
       " 'green_print',\n",
       " 'blue_print',\n",
       " 'magenta_print',\n",
       " 'cyan_print',\n",
       " 'white_print',\n",
       " 'black_print',\n",
       " 'bright_red_print',\n",
       " 'bright_green_print',\n",
       " 'bright_blue_print',\n",
       " 'bright_yellow_print',\n",
       " 'bright_magenta_print',\n",
       " 'bright_cyan_print',\n",
       " 'bright_white_print',\n",
       " 'dim_red_print',\n",
       " 'dim_green_print',\n",
       " 'dim_blue_print',\n",
       " 'dim_yellow_print',\n",
       " 'dim_magenta_print',\n",
       " 'dim_cyan_print',\n",
       " 'dim_white_print',\n",
       " 'danger',\n",
       " 'success',\n",
       " 'info',\n",
       " 'warning']"
      ]
     },
     "execution_count": 9,
     "metadata": {},
     "output_type": "execute_result"
    }
   ],
   "source": [
    "cp.__dir__()"
   ]
  },
  {
   "cell_type": "markdown",
   "metadata": {},
   "source": [
    "# 使用对话机器人进行测试"
   ]
  },
  {
   "cell_type": "code",
   "execution_count": null,
   "metadata": {},
   "outputs": [],
   "source": [
    "\"\"\"\n",
    "Author: hxy\n",
    "Date: 2025/02/23\n",
    "Description: 使用langgraph构建llm\n",
    "\"\"\"\n",
    "\n",
    "# %%\n",
    "from typing import TypedDict, Annotated\n",
    "from langchain_core.messages import HumanMessage\n",
    "from langchain_openai import ChatOpenAI\n",
    "from langgraph.checkpoint.memory import MemorySaver\n",
    "from langgraph.graph import StateGraph\n",
    "import colorful_prints as cp\n",
    "\n",
    "model = \"deepseek-v3-free\"\n",
    "llm = ChatOpenAI(model=model)\n",
    "# llm.invoke(\"你好，你是什么模型？\")\n",
    "# %%\n",
    "_debug = False\n",
    "\n",
    "\n",
    "def concat(original: list, new: list) -> list:\n",
    "    if _debug:\n",
    "        # print(f\"left: {original}\\nright:{new}\")\n",
    "        cp.info(f\"left: {original}\\nright:{new}\")\n",
    "    return original + new\n",
    "\n",
    "\n",
    "class ChatState(TypedDict):\n",
    "    messages: Annotated[list, concat]  # messages的状态和reduce function\n",
    "\n",
    "\n",
    "def chat(state: ChatState):\n",
    "    answer = llm.invoke(state[\"messages\"])\n",
    "    return {\"messages\": [answer]}\n",
    "\n",
    "\n",
    "workflow = StateGraph(ChatState)\n",
    "workflow.add_node(chat)\n",
    "workflow.set_entry_point(\"chat\")\n",
    "workflow.add_edge(\"chat\", \"__end__\")\n",
    "graph = workflow.compile(checkpointer=MemorySaver())\n",
    "\n",
    "\n",
    "def session(id):\n",
    "    return {\"configurable\": {\"thread_id\": str(id)}}\n",
    "\n",
    "\n",
    "while True:\n",
    "    user_input = input(\">>> \")\n",
    "\n",
    "    r = []\n",
    "    for message_chunk, metadata in graph.stream(\n",
    "        {\"messages\": [HumanMessage(user_input)]},\n",
    "        config=session(1),\n",
    "        stream_mode=\"messages\",\n",
    "    ):\n",
    "        if message_chunk.content:\n",
    "            r.append(message_chunk.content)\n",
    "            # print(message_chunk.content, end=\"\", flush=True)\n",
    "            cp.success(message_chunk.content, end=\"\")\n",
    "    print()\n",
    "    r = \" \".join(r)\n",
    "    # r = graph.stream({\"messages\": [HumanMessage(user_input)]}, config=session(1))\n",
    "    # print(\"AI: \" + r)\n",
    "\n",
    "    if _debug:\n",
    "        # print(\"-------------\")\n",
    "        cp.white_print(\"-------------\")\n",
    "        for h in graph.get_state_history(session(1)):\n",
    "            # print(h, end=\"\\n\\n\")\n",
    "            cp.info(h, end=\"\\n\\n\")\n",
    "        cp.white_print(\"-------------\")\n",
    "        # print(\"-------------\")"
   ]
  }
 ],
 "metadata": {
  "kernelspec": {
   "display_name": "hxy_dpl",
   "language": "python",
   "name": "python3"
  },
  "language_info": {
   "codemirror_mode": {
    "name": "ipython",
    "version": 3
   },
   "file_extension": ".py",
   "mimetype": "text/x-python",
   "name": "python",
   "nbconvert_exporter": "python",
   "pygments_lexer": "ipython3",
   "version": "3.10.16"
  }
 },
 "nbformat": 4,
 "nbformat_minor": 2
}
